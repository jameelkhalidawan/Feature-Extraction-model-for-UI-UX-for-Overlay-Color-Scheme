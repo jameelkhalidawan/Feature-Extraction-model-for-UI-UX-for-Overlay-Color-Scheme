{
  "nbformat": 4,
  "nbformat_minor": 0,
  "metadata": {
    "colab": {
      "provenance": [],
      "gpuType": "T4"
    },
    "kernelspec": {
      "name": "python3",
      "display_name": "Python 3"
    },
    "language_info": {
      "name": "python"
    },
    "accelerator": "GPU"
  },
  "cells": [
    {
      "cell_type": "code",
      "execution_count": 93,
      "metadata": {
        "id": "94z8m5dArzX_"
      },
      "outputs": [],
      "source": [
        "import pandas as pd\n",
        "import numpy as np\n",
        "import tensorflow as tf\n",
        "from tensorflow.keras.preprocessing.image import load_img, img_to_array\n",
        "from sklearn.preprocessing import LabelEncoder\n",
        "from sklearn.model_selection import train_test_split\n",
        "from sklearn.metrics import accuracy_score, mean_squared_error\n",
        "from tensorflow.keras.models import Sequential\n",
        "from tensorflow.keras.layers import Conv2D, MaxPooling2D, Flatten, Dense, Dropout\n",
        "from tensorflow.keras.optimizers import Adam"
      ]
    },
    {
      "cell_type": "code",
      "source": [
        "# Load CSV file\n",
        "csv_path = \"/content/gdrive/My Drive/labx3.csv\"\n",
        "image_folder_path = \"/content/gdrive/My Drive/dataset final\"\n",
        "\n",
        "df = pd.read_csv(csv_path)\n",
        "\n",
        "# Define target variable\n",
        "target = df['Overlay Color Scheme']\n",
        "\n",
        "# Resize and convert images to numpy arrays\n",
        "image_data = []\n",
        "for image_name in df['Image Name']:\n",
        "    image_path = f\"{image_folder_path}/{image_name}\"\n",
        "    image = load_img(image_path, target_size=(224, 224))\n",
        "    image_array = img_to_array(image)\n",
        "    image_data.append(image_array)\n",
        "\n",
        "image_data = np.array(image_data)"
      ],
      "metadata": {
        "id": "8_3cirVY-zlA"
      },
      "execution_count": 94,
      "outputs": []
    },
    {
      "cell_type": "code",
      "source": [
        "# Map each image with the target variable\n",
        "# Drop Image Name column\n",
        "df = df.drop(columns=['Image Name'])\n",
        "\n",
        "# Label encode target variable\n",
        "encoder = LabelEncoder()\n",
        "target_encoded = encoder.fit_transform(target)\n",
        "print(\"Encoding mapping:\")\n",
        "for idx, label in enumerate(encoder.classes_):\n",
        "    print(f\"{label} -> {idx}\")"
      ],
      "metadata": {
        "colab": {
          "base_uri": "https://localhost:8080/"
        },
        "id": "KbpWW1mW_AV6",
        "outputId": "b60a96d2-776e-45d5-c37f-7fcb46951bef"
      },
      "execution_count": 95,
      "outputs": [
        {
          "output_type": "stream",
          "name": "stdout",
          "text": [
            "Encoding mapping:\n",
            "Excellent -> 0\n",
            "Good -> 1\n",
            "None -> 2\n",
            "Poor -> 3\n"
          ]
        }
      ]
    },
    {
      "cell_type": "code",
      "source": [
        "\n",
        "# Split dataset into train and test sets\n",
        "X_train, X_test, y_train, y_test = train_test_split(image_data, target_encoded, test_size=0.2, random_state=42)\n"
      ],
      "metadata": {
        "id": "O22stlj3-7sy"
      },
      "execution_count": 96,
      "outputs": []
    },
    {
      "cell_type": "code",
      "source": [
        "# Define hyperparameters\n",
        "batch_size = 25\n",
        "epochs = 7\n",
        "learning_rate = 0.001\n",
        "\n",
        "# Define CNN model architecture\n",
        "model = Sequential([\n",
        "    Conv2D(32, (3, 3), activation='relu', input_shape=(224, 224, 3)),\n",
        "    MaxPooling2D((2, 2)),\n",
        "    Conv2D(64, (3, 3), activation='relu'),\n",
        "    MaxPooling2D((2, 2)),\n",
        "    Conv2D(128, (3, 3), activation='relu'),\n",
        "    MaxPooling2D((2, 2)),\n",
        "    Flatten(),\n",
        "    Dense(128, activation='relu'),\n",
        "    Dropout(0.3),\n",
        "    Dense(4, activation='softmax')\n",
        "])"
      ],
      "metadata": {
        "id": "vqUThtGS-znb"
      },
      "execution_count": 114,
      "outputs": []
    },
    {
      "cell_type": "code",
      "source": [
        "\n",
        "# Compile the model\n",
        "optimizer = Adam(learning_rate=learning_rate)\n",
        "model.compile(optimizer=optimizer, loss='sparse_categorical_crossentropy', metrics=['accuracy'])\n"
      ],
      "metadata": {
        "id": "XIsPgFy5-zpu"
      },
      "execution_count": 115,
      "outputs": []
    },
    {
      "cell_type": "code",
      "source": [
        "# Train the model\n",
        "history = model.fit(X_train, y_train, epochs=epochs, batch_size=batch_size, validation_split=0.2)\n"
      ],
      "metadata": {
        "colab": {
          "base_uri": "https://localhost:8080/"
        },
        "id": "3o7RBv0R-zsX",
        "outputId": "510bad1b-4d58-4aa6-ea57-6d60e1601dc1"
      },
      "execution_count": 116,
      "outputs": [
        {
          "output_type": "stream",
          "name": "stdout",
          "text": [
            "Epoch 1/7\n",
            "34/34 [==============================] - 3s 54ms/step - loss: 47.8443 - accuracy: 0.5925 - val_loss: 1.0140 - val_accuracy: 0.6860\n",
            "Epoch 2/7\n",
            "34/34 [==============================] - 2s 46ms/step - loss: 1.0417 - accuracy: 0.7279 - val_loss: 0.9569 - val_accuracy: 0.6618\n",
            "Epoch 3/7\n",
            "34/34 [==============================] - 2s 46ms/step - loss: 0.7963 - accuracy: 0.7376 - val_loss: 0.9017 - val_accuracy: 0.6908\n",
            "Epoch 4/7\n",
            "34/34 [==============================] - 1s 43ms/step - loss: 0.6649 - accuracy: 0.7956 - val_loss: 1.0079 - val_accuracy: 0.6908\n",
            "Epoch 5/7\n",
            "34/34 [==============================] - 1s 42ms/step - loss: 0.7322 - accuracy: 0.7836 - val_loss: 0.8886 - val_accuracy: 0.6812\n",
            "Epoch 6/7\n",
            "34/34 [==============================] - 1s 43ms/step - loss: 0.7119 - accuracy: 0.7823 - val_loss: 0.9958 - val_accuracy: 0.7101\n",
            "Epoch 7/7\n",
            "34/34 [==============================] - 1s 42ms/step - loss: 0.6529 - accuracy: 0.7799 - val_loss: 0.9409 - val_accuracy: 0.6957\n"
          ]
        }
      ]
    },
    {
      "cell_type": "code",
      "source": [
        "# Evaluate the model\n",
        "test_loss, test_acc = model.evaluate(X_test, y_test)\n",
        "print(\"Test Accuracy:\", test_acc)\n"
      ],
      "metadata": {
        "colab": {
          "base_uri": "https://localhost:8080/"
        },
        "id": "cxVJRcmH-zur",
        "outputId": "09ff6e7c-2447-49c6-c016-c3e1c9720171"
      },
      "execution_count": 117,
      "outputs": [
        {
          "output_type": "stream",
          "name": "stdout",
          "text": [
            "9/9 [==============================] - 0s 20ms/step - loss: 0.8921 - accuracy: 0.7143\n",
            "Test Accuracy: 0.7142857313156128\n"
          ]
        }
      ]
    },
    {
      "cell_type": "code",
      "source": [
        "\n",
        "# Save the model\n",
        "model.save(\"/content/gdrive/My Drive/Overlay Color Scheme(71).h5\")"
      ],
      "metadata": {
        "colab": {
          "base_uri": "https://localhost:8080/"
        },
        "id": "O34OMKIF-zxH",
        "outputId": "710281d4-db3a-47be-ca70-f811b10806b1"
      },
      "execution_count": 118,
      "outputs": [
        {
          "output_type": "stream",
          "name": "stderr",
          "text": [
            "/usr/local/lib/python3.10/dist-packages/keras/src/engine/training.py:3103: UserWarning: You are saving your model as an HDF5 file via `model.save()`. This file format is considered legacy. We recommend using instead the native Keras format, e.g. `model.save('my_model.keras')`.\n",
            "  saving_api.save_model(\n"
          ]
        }
      ]
    },
    {
      "cell_type": "code",
      "source": [
        "import numpy as np\n",
        "from tensorflow.keras.preprocessing.image import load_img, img_to_array\n",
        "from tensorflow.keras.models import load_model\n",
        "from google.colab import drive\n",
        "\n",
        "drive.mount('/content/gdrive')\n",
        "\n",
        "# Load the trained model\n",
        "model_path = \"/content/gdrive/My Drive/Overlay Color Scheme(71).h5\"\n",
        "model = load_model(model_path)\n",
        "\n",
        "# Define function to predict intensity for an image\n",
        "def predict_intensity(image_path):\n",
        "    # Load and preprocess the image\n",
        "    image = load_img(image_path, target_size=(224, 224))\n",
        "    image_array = img_to_array(image)\n",
        "    image_array = np.expand_dims(image_array, axis=0)\n",
        "    # Make prediction using the model\n",
        "    prediction = model.predict(image_array)\n",
        "    predicted_intensity = np.argmax(prediction)\n",
        "    return predicted_intensity\n",
        "\n",
        "# Example usage\n",
        "image_path = \"/content/gdrive/My Drive/dataset final/Utility Apps (63).png\"\n",
        "predicted_intensity = predict_intensity(image_path)\n",
        "print(\"Predicted Intensity:\", predicted_intensity)\n"
      ],
      "metadata": {
        "colab": {
          "base_uri": "https://localhost:8080/"
        },
        "id": "jY96QNRV-zzY",
        "outputId": "a620c75e-872f-4afe-a4e8-f980f25e644d"
      },
      "execution_count": 128,
      "outputs": [
        {
          "output_type": "stream",
          "name": "stdout",
          "text": [
            "Drive already mounted at /content/gdrive; to attempt to forcibly remount, call drive.mount(\"/content/gdrive\", force_remount=True).\n",
            "1/1 [==============================] - 0s 82ms/step\n",
            "Predicted Intensity: 1\n"
          ]
        }
      ]
    },
    {
      "cell_type": "code",
      "source": [
        "Utility Apps (9).png\n",
        "bad (17).png"
      ],
      "metadata": {
        "id": "okaOFZ6m-z1g"
      },
      "execution_count": null,
      "outputs": []
    },
    {
      "cell_type": "code",
      "source": [],
      "metadata": {
        "id": "linekw_Q-z4G"
      },
      "execution_count": null,
      "outputs": []
    },
    {
      "cell_type": "code",
      "source": [],
      "metadata": {
        "id": "gIdj4pdN-z6J"
      },
      "execution_count": null,
      "outputs": []
    },
    {
      "cell_type": "code",
      "source": [],
      "metadata": {
        "id": "TnsKRJFf9UKz"
      },
      "execution_count": null,
      "outputs": []
    },
    {
      "cell_type": "code",
      "source": [
        "model.save(\"/content/gdrive/My Drive/cnn_model.h5\")"
      ],
      "metadata": {
        "colab": {
          "base_uri": "https://localhost:8080/"
        },
        "id": "iEKcv0-0sr00",
        "outputId": "8b856ea1-d76b-4859-e52c-9cbf30c8ff86"
      },
      "execution_count": 4,
      "outputs": [
        {
          "output_type": "stream",
          "name": "stderr",
          "text": [
            "/usr/local/lib/python3.10/dist-packages/keras/src/engine/training.py:3103: UserWarning: You are saving your model as an HDF5 file via `model.save()`. This file format is considered legacy. We recommend using instead the native Keras format, e.g. `model.save('my_model.keras')`.\n",
            "  saving_api.save_model(\n"
          ]
        }
      ]
    },
    {
      "cell_type": "code",
      "source": [],
      "metadata": {
        "id": "0m01Gmux2OAY"
      },
      "execution_count": null,
      "outputs": []
    },
    {
      "cell_type": "code",
      "source": [
        "import numpy as np\n",
        "from tensorflow.keras.models import load_model\n",
        "from tensorflow.keras.preprocessing.image import load_img, img_to_array\n",
        "\n",
        "# Load the saved model\n",
        "model_path = \"/content/gdrive/My Drive/overlay_intensity1(71).h5\"\n",
        "model = load_model(model_path)\n",
        "\n",
        "# Define function to predict intensity for a given image\n",
        "def predict_intensity(image_path):\n",
        "    # Load and preprocess the image\n",
        "    image = load_img(image_path, target_size=(224, 224))\n",
        "    image_array = img_to_array(image)\n",
        "    image_array = np.expand_dims(image_array, axis=0)\n",
        "\n",
        "    # Make prediction\n",
        "    prediction = model.predict(image_array)\n",
        "\n",
        "    # Decode prediction\n",
        "    intensity_classes = ['Low', 'Moderate', 'High', 'None']\n",
        "    predicted_class = np.argmax(prediction)\n",
        "    intensity = intensity_classes[predicted_class]\n",
        "\n",
        "    return intensity\n",
        "\n",
        "# Path to the image for prediction\n",
        "image_path = \"/content/gdrive/My Drive/dataset final/bad (200).png\"\n",
        "\n",
        "# Predict intensity for the image\n",
        "predicted_intensity = predict_intensity(image_path)\n",
        "print(\"Predicted Overlay Intensity:\", predicted_intensity)\n"
      ],
      "metadata": {
        "colab": {
          "base_uri": "https://localhost:8080/"
        },
        "id": "vbEIjhI42OC2",
        "outputId": "b98cf1db-739d-4530-b65b-27f001818e20"
      },
      "execution_count": 40,
      "outputs": [
        {
          "output_type": "stream",
          "name": "stdout",
          "text": [
            "1/1 [==============================] - 0s 82ms/step\n",
            "Predicted Overlay Intensity: Low\n"
          ]
        }
      ]
    },
    {
      "cell_type": "code",
      "source": [
        "encoder = LabelEncoder()\n",
        "target_encoded = encoder.fit_transform(target)\n",
        "print(target_encoded)"
      ],
      "metadata": {
        "colab": {
          "base_uri": "https://localhost:8080/"
        },
        "id": "sDqt3UMv2OFS",
        "outputId": "62515e61-b893-4df8-a0ef-e7b2358b2e63"
      },
      "execution_count": 7,
      "outputs": [
        {
          "output_type": "stream",
          "name": "stdout",
          "text": [
            "[0 0 0 ... 1 1 2]\n"
          ]
        }
      ]
    },
    {
      "cell_type": "markdown",
      "source": [],
      "metadata": {
        "id": "KozH4RJx2NjX"
      }
    }
  ]
}